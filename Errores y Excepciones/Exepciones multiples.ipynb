{
 "cells": [
  {
   "cell_type": "code",
   "execution_count": null,
   "metadata": {},
   "outputs": [],
   "source": [
    "#Exepciones Multiples\n",
    "#Reutilizacion"
   ]
  },
  {
   "cell_type": "code",
   "execution_count": null,
   "metadata": {},
   "outputs": [],
   "source": [
    "#Controles de Errores\n",
    "variable = float(input(\"Introduce un numero: \"))\n",
    "a = 2\n",
    "print(\"resultado\",a*variable)\n",
    "#causariamos un error si ingresamos un string"
   ]
  },
  {
   "cell_type": "code",
   "execution_count": null,
   "metadata": {},
   "outputs": [],
   "source": [
    "#Ingresos de Numeros\n",
    "try:\n",
    "    variable = float(input(\"Introduce algo: \"))\n",
    "    a = 2\n",
    "    print(\"resultado\",a*variable)\n",
    "except:\n",
    "    print(\"Ingresaste otras cosas Menos un Numero\")"
   ]
  },
  {
   "cell_type": "code",
   "execution_count": null,
   "metadata": {},
   "outputs": [],
   "source": [
    "#Menu\n",
    "while (True):\n",
    "    try:\n",
    "        variable = float(input(\"Introduce algo: \"))\n",
    "        a = 2\n",
    "        print(\"resultado\",a*variable)\n",
    "        #break\n",
    "    except:\n",
    "        print(\"Ingresaste otras cosas Menos un Numero\")\n",
    "    else:\n",
    "        print(\"Iniciaste Session\")\n",
    "        break"
   ]
  },
  {
   "cell_type": "code",
   "execution_count": null,
   "metadata": {},
   "outputs": [],
   "source": [
    "#Fonaly\n",
    "while (True):\n",
    "    try:\n",
    "        variable = float(input(\"Introduce algo: \"))\n",
    "        a = 2\n",
    "        print(\"resultado\",a*variable)\n",
    "        #break\n",
    "    except:\n",
    "        print(\"Ingresaste otras cosas Menos un Numero\")\n",
    "    else:\n",
    "        print(\"Iniciaste Session\")\n",
    "    finally:\n",
    "        print(\"Perfecto mi amigo, termino todo\")\n"
   ]
  },
  {
   "cell_type": "code",
   "execution_count": null,
   "metadata": {},
   "outputs": [],
   "source": [
    "try:\n",
    "  print(x)\n",
    "except NameError:\n",
    "  print(\"Variable x is not defined\")\n",
    "except:\n",
    "  print(\"Something else went wrong\")"
   ]
  },
  {
   "cell_type": "code",
   "execution_count": null,
   "metadata": {},
   "outputs": [],
   "source": [
    "try:\n",
    "  print(x)\n",
    "except:\n",
    "  print(\"Something went wrong\")\n",
    "finally:\n",
    "  print(\"The 'try except' is finished\")\n"
   ]
  }
 ],
 "metadata": {
  "kernelspec": {
   "display_name": "Python 3",
   "language": "python",
   "name": "python3"
  },
  "language_info": {
   "codemirror_mode": {
    "name": "ipython",
    "version": 3
   },
   "file_extension": ".py",
   "mimetype": "text/x-python",
   "name": "python",
   "nbconvert_exporter": "python",
   "pygments_lexer": "ipython3",
   "version": "3.7.6"
  }
 },
 "nbformat": 4,
 "nbformat_minor": 4
}
