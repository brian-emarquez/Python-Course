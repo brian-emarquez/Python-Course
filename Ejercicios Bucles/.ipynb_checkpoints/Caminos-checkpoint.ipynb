{
 "cells": [
  {
   "cell_type": "code",
   "execution_count": null,
   "metadata": {},
   "outputs": [],
   "source": [
    "print(\"Elige un Camino\")\n",
    "nombre = input(\"Escribe tu nombre antes de empresar: \")\n",
    "inicio = input(\"Escribe EMPEZAR para Continuar\")\n",
    "while (inicio == \"EMPEZAR\"):\n",
    "    print(\"\"\"\"¿Que camino Quieres Elegir?\n",
    "    1 - Quiere que te Salude\n",
    "    2 - Quies Multiplicar 2 Numeros\n",
    "    3 - Quieres Terminar el Programa \"\"\")\n",
    "    opcion=input(\"Ingrese un Numero: \")\n",
    "    print()\n",
    "    if opcion == \"1\":\n",
    "        print(f\"Te Saludo {nombre}\")\n",
    "    elif opcion ==\"2\":\n",
    "        numero1 = float(input(\"Ingrese el Primer Numero para Multiplicar: \"))\n",
    "        numero2 = float(input(\"Ingrese el Segundo Numero para Multiplicar: \"))\n",
    "        resultado = numero1*numero2\n",
    "        print(f\"El resultado de la Multiplcacion es: {resultado}\")\n",
    "    elif opcion ==\"3\":\n",
    "        print(\"¡Espero que Vuelva Pronto!\")\n",
    "    else:\n",
    "        print(\"Error! Vuelve  Intentarlo\")\n",
    "\n",
    "    "
   ]
  },
  {
   "cell_type": "code",
   "execution_count": null,
   "metadata": {},
   "outputs": [],
   "source": []
  }
 ],
 "metadata": {
  "kernelspec": {
   "display_name": "Python 3",
   "language": "python",
   "name": "python3"
  },
  "language_info": {
   "codemirror_mode": {
    "name": "ipython",
    "version": 3
   },
   "file_extension": ".py",
   "mimetype": "text/x-python",
   "name": "python",
   "nbconvert_exporter": "python",
   "pygments_lexer": "ipython3",
   "version": "3.7.6"
  }
 },
 "nbformat": 4,
 "nbformat_minor": 4
}
