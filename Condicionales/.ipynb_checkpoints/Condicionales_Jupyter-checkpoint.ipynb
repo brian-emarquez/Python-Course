{
 "cells": [
  {
   "cell_type": "code",
   "execution_count": 16,
   "metadata": {},
   "outputs": [
    {
     "name": "stdout",
     "output_type": "stream",
     "text": [
      "el nombre es: brian\n"
     ]
    }
   ],
   "source": [
    "#Ejemplo Con If\n",
    "nombre = \"brian\"\n",
    "if nombre == \"brian\":\n",
    "    print(f\"el nombre es: {nombre}\")\n",
    "elif nombre == \"carlos\":\n",
    "    print(f\"el nombre es: {carlos}\")\n",
    "else:\n",
    "    print(\"no existe el nombre\")\n"
   ]
  },
  {
   "cell_type": "code",
   "execution_count": null,
   "metadata": {},
   "outputs": [],
   "source": []
  }
 ],
 "metadata": {
  "kernelspec": {
   "display_name": "Python 3",
   "language": "python",
   "name": "python3"
  },
  "language_info": {
   "codemirror_mode": {
    "name": "ipython",
    "version": 3
   },
   "file_extension": ".py",
   "mimetype": "text/x-python",
   "name": "python",
   "nbconvert_exporter": "python",
   "pygments_lexer": "ipython3",
   "version": "3.7.6"
  }
 },
 "nbformat": 4,
 "nbformat_minor": 4
}
