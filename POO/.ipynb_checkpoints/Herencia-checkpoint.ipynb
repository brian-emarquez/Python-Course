{
 "cells": [
  {
   "cell_type": "code",
   "execution_count": null,
   "metadata": {},
   "outputs": [],
   "source": [
    "#Herencia\n",
    "#Heredear de atributos de un superclases"
   ]
  },
  {
   "cell_type": "code",
   "execution_count": 1,
   "metadata": {},
   "outputs": [],
   "source": [
    "#Ejepmlo sin Herencia\n",
    "class Fabrica:\n",
    "    def __init__(self, marca, nombre, precio, descripcion, ruedas=None,distribuidor=None):\n",
    "        self.marca = marca\n",
    "        self.nombre = nombre\n",
    "        self.precio = precio\n",
    "        self.descripcion = descripcion\n",
    "        self.ruedas = ruedas\n",
    "        self.distribuidor = distribuidor\n",
    "\n",
    "#Objeto - Intanciar\n",
    "Auto = Fabrica ('Ford','Brian','camioneta 4x4',4)"
   ]
  },
  {
   "cell_type": "code",
   "execution_count": 2,
   "metadata": {},
   "outputs": [
    {
     "data": {
      "text/plain": [
       "'Brian'"
      ]
     },
     "execution_count": 2,
     "metadata": {},
     "output_type": "execute_result"
    }
   ],
   "source": [
    "Auto.nombre"
   ]
  },
  {
   "cell_type": "code",
   "execution_count": 3,
   "metadata": {},
   "outputs": [],
   "source": [
    "#con Herencia\n",
    "### SUPERCLASE\n",
    "class Fabrica:\n",
    "    \n",
    "    def __init__(self,marca,nombre,precio,descripcion):\n",
    "        self.marca = marca\n",
    "        self.nombre = nombre\n",
    "        self.precio = precio\n",
    "        self.descripcion = descripcion\n",
    "        \n",
    "    def __str__(self):#string debolvemos los valores \n",
    "        return \"\"\"\n",
    "            MARCA\\t\\t{}\n",
    "            NOMBRE\\t\\t{}\n",
    "            PRECIO\\t\\t{}\n",
    "            DESCRIPCION\\t\\t{}\"\"\".format(self.marca,self.nombre,self.precio,self.descripcion)   "
   ]
  },
  {
   "cell_type": "code",
   "execution_count": 4,
   "metadata": {},
   "outputs": [
    {
     "name": "stdout",
     "output_type": "stream",
     "text": [
      "\n",
      "            MARCA\t\tford\n",
      "            NOMBRE\t\tranger\n",
      "            PRECIO\t\t100.0\n",
      "            DESCRIPCION\t\tcamioneta\n"
     ]
    }
   ],
   "source": [
    "### SUBCLASE\n",
    "class Auto(Fabrica): #EN EL PARENCTESIS HEREDA LA USPER CLASES (fabrica)\n",
    "    pass\n",
    "\n",
    "z = Auto('ford','ranger',100.000,\"camioneta\")\n",
    "print(z)\n"
   ]
  },
  {
   "cell_type": "code",
   "execution_count": 5,
   "metadata": {},
   "outputs": [],
   "source": [
    "class Deportivo(Fabrica):\n",
    "    ruedas =\"\"\n",
    "    distribuidor = \"\"\n",
    "    \n",
    "    def __str__(self):\n",
    "        return \"\"\"\n",
    "            MARCA\\t\\t{}\n",
    "            NOMBRE\\t\\t{}\n",
    "            PRECIO\\t\\t{}\n",
    "            DESCRIPCION\\t\\t{}\n",
    "            RUEDAS\\t\\t{}\n",
    "            DISTRIBUIDOR\\t{}\"\"\".format(self.marca,self.nombre,self.precio,self.descripcion,self.ruedas,self.distribuidor)  \n",
    "    \n",
    "    "
   ]
  },
  {
   "cell_type": "code",
   "execution_count": 6,
   "metadata": {},
   "outputs": [],
   "source": [
    "deportivo = Deportivo (\"volkwagen\",\"Nisan\",4000,\"el mejor\")\n",
    "deportivo.ruedas = 3\n",
    "deportivo.distribuidor = \"tu autito\""
   ]
  },
  {
   "cell_type": "code",
   "execution_count": 7,
   "metadata": {},
   "outputs": [
    {
     "name": "stdout",
     "output_type": "stream",
     "text": [
      "\n",
      "            MARCA\t\tvolkwagen\n",
      "            NOMBRE\t\tNisan\n",
      "            PRECIO\t\t4000\n",
      "            DESCRIPCION\t\tel mejor\n",
      "            RUEDAS\t\t3\n",
      "            DISTRIBUIDOR\ttu autito\n"
     ]
    }
   ],
   "source": [
    "print(deportivo)"
   ]
  },
  {
   "cell_type": "code",
   "execution_count": 8,
   "metadata": {},
   "outputs": [],
   "source": [
    "class Clasico (Fabrica):\n",
    "    modelo = \"\"\n",
    "    color = \"\"\n",
    "    \n",
    "    def __str__(self):\n",
    "        return \"\"\"\n",
    "            MARCA\\t\\t{}\n",
    "            NOMBRE\\t\\t{}\n",
    "            PRECIO\\t\\t{}\n",
    "            DESCRIPCION\\t\\t{}\n",
    "            RUEDAS\\t\\t{}\n",
    "            DISTRIBUIDOR\\t{}\n",
    "            MODELO\\t\\t{}\n",
    "            COLOR\\t\\t{}\"\"\".format(self.marca,self.nombre,self.precio,self.descripcion,self.ruedas,self.distribuidor,self.modelo,self.color)      "
   ]
  },
  {
   "cell_type": "code",
   "execution_count": 11,
   "metadata": {},
   "outputs": [
    {
     "ename": "TypeError",
     "evalue": "__init__() takes 5 positional arguments but 6 were given",
     "output_type": "error",
     "traceback": [
      "\u001b[1;31m---------------------------------------------------------------------------\u001b[0m",
      "\u001b[1;31mTypeError\u001b[0m                                 Traceback (most recent call last)",
      "\u001b[1;32m<ipython-input-11-ead4fa4c02fd>\u001b[0m in \u001b[0;36m<module>\u001b[1;34m\u001b[0m\n\u001b[1;32m----> 1\u001b[1;33m \u001b[0mclasico\u001b[0m \u001b[1;33m=\u001b[0m \u001b[0mClasico\u001b[0m\u001b[1;33m(\u001b[0m\u001b[1;34m\"tesla\"\u001b[0m\u001b[1;33m,\u001b[0m\u001b[1;34m\"fgdf\"\u001b[0m\u001b[1;33m,\u001b[0m\u001b[1;34m\"brian\"\u001b[0m\u001b[1;33m,\u001b[0m \u001b[1;36m400.00\u001b[0m\u001b[1;33m,\u001b[0m\u001b[1;34m\"electrico\"\u001b[0m\u001b[1;33m)\u001b[0m\u001b[1;33m\u001b[0m\u001b[1;33m\u001b[0m\u001b[0m\n\u001b[0m\u001b[0;32m      2\u001b[0m \u001b[0mclasico\u001b[0m\u001b[1;33m.\u001b[0m\u001b[0mmedelo\u001b[0m \u001b[1;33m=\u001b[0m \u001b[1;34m\"linkon\"\u001b[0m\u001b[1;33m\u001b[0m\u001b[1;33m\u001b[0m\u001b[0m\n\u001b[0;32m      3\u001b[0m \u001b[0mclasico\u001b[0m\u001b[1;33m.\u001b[0m\u001b[0mcolor\u001b[0m \u001b[1;33m=\u001b[0m \u001b[1;34m\"Negro\"\u001b[0m\u001b[1;33m\u001b[0m\u001b[1;33m\u001b[0m\u001b[0m\n",
      "\u001b[1;31mTypeError\u001b[0m: __init__() takes 5 positional arguments but 6 were given"
     ]
    }
   ],
   "source": [
    "clasico = Clasico(\"tesla\",\"brian\", 400.00,\"electrico\")\n",
    "clasico.medelo = \"linkon\"\n",
    "clasico.color = \"Negro\""
   ]
  },
  {
   "cell_type": "code",
   "execution_count": 10,
   "metadata": {},
   "outputs": [
    {
     "ename": "AttributeError",
     "evalue": "'Clasico' object has no attribute 'ruedas'",
     "output_type": "error",
     "traceback": [
      "\u001b[1;31m---------------------------------------------------------------------------\u001b[0m",
      "\u001b[1;31mAttributeError\u001b[0m                            Traceback (most recent call last)",
      "\u001b[1;32m<ipython-input-10-a3995e61e4a9>\u001b[0m in \u001b[0;36m<module>\u001b[1;34m\u001b[0m\n\u001b[1;32m----> 1\u001b[1;33m \u001b[0mprint\u001b[0m\u001b[1;33m(\u001b[0m\u001b[0mclasico\u001b[0m\u001b[1;33m)\u001b[0m\u001b[1;33m\u001b[0m\u001b[1;33m\u001b[0m\u001b[0m\n\u001b[0m",
      "\u001b[1;32m<ipython-input-8-9704eaa99a46>\u001b[0m in \u001b[0;36m__str__\u001b[1;34m(self)\u001b[0m\n\u001b[0;32m     12\u001b[0m             \u001b[0mDISTRIBUIDOR\u001b[0m\u001b[0;31m\\\u001b[0m\u001b[0mt\u001b[0m\u001b[1;33m{\u001b[0m\u001b[1;33m}\u001b[0m\u001b[1;33m\u001b[0m\u001b[1;33m\u001b[0m\u001b[0m\n\u001b[0;32m     13\u001b[0m             \u001b[0mMODELO\u001b[0m\u001b[0;31m\\\u001b[0m\u001b[0mt\u001b[0m\u001b[0;31m\\\u001b[0m\u001b[0mt\u001b[0m\u001b[1;33m{\u001b[0m\u001b[1;33m}\u001b[0m\u001b[1;33m\u001b[0m\u001b[1;33m\u001b[0m\u001b[0m\n\u001b[1;32m---> 14\u001b[1;33m             COLOR\\t\\t{}\"\"\".format(self.marca,self.nombre,self.precio,self.descripcion,self.ruedas,self.distribuidor,self.modelo,self.color)      \n\u001b[0m",
      "\u001b[1;31mAttributeError\u001b[0m: 'Clasico' object has no attribute 'ruedas'"
     ]
    }
   ],
   "source": [
    "print(Clasico)"
   ]
  },
  {
   "cell_type": "code",
   "execution_count": null,
   "metadata": {},
   "outputs": [],
   "source": []
  },
  {
   "cell_type": "code",
   "execution_count": null,
   "metadata": {},
   "outputs": [],
   "source": []
  },
  {
   "cell_type": "code",
   "execution_count": null,
   "metadata": {},
   "outputs": [],
   "source": []
  }
 ],
 "metadata": {
  "kernelspec": {
   "display_name": "Python 3",
   "language": "python",
   "name": "python3"
  },
  "language_info": {
   "codemirror_mode": {
    "name": "ipython",
    "version": 3
   },
   "file_extension": ".py",
   "mimetype": "text/x-python",
   "name": "python",
   "nbconvert_exporter": "python",
   "pygments_lexer": "ipython3",
   "version": "3.7.6"
  }
 },
 "nbformat": 4,
 "nbformat_minor": 4
}
