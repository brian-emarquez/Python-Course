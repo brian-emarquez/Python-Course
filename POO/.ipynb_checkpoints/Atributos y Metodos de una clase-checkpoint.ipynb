{
 "cells": [
  {
   "cell_type": "code",
   "execution_count": null,
   "metadata": {},
   "outputs": [],
   "source": [
    "#Atributos y metodos e una clase 2"
   ]
  },
  {
   "cell_type": "code",
   "execution_count": null,
   "metadata": {},
   "outputs": [],
   "source": [
    "#ejemplo 1\n",
    "class Auto:\n",
    "    Rojo = False\n",
    "    \n",
    "    def __init__(self, puertas, color):\n",
    "        self.puertas = puertas\n",
    "        self.color = color\n",
    "        print(\"se creo un Autocon puertas {} y color {}\".format(puertas, color))\n",
    "    \n",
    "    def Fabricar(self):\n",
    "        self.Rojo = True\n",
    "            \n",
    "    def confirmar_facricacion(self):\n",
    "        if(self.Rojo):\n",
    "            print(\"auto coloreado rojo\")\n",
    "        else:\n",
    "            print(\"aun no esta coloreado\")  \n",
    "            \n",
    "a = Auto(\"2\",\"Rojo\")#~"
   ]
  },
  {
   "cell_type": "code",
   "execution_count": 11,
   "metadata": {},
   "outputs": [],
   "source": [
    "#ejemplo 2\n",
    "class Auto:\n",
    "    Rojo = False\n",
    "    \n",
    "    def __init__(self, puertas=None, color=None):\n",
    "        self.puertas = puertas\n",
    "        self.color = color\n",
    "        print(\"se creo un Autocon puertas {} y color {}\".format(puertas, color))\n",
    "    \n",
    "    def Fabricar(self):\n",
    "        self.Rojo = True\n",
    "            \n",
    "    def confirmar_facricacion(self):\n",
    "        if(self.Rojo):\n",
    "            print(\"auto coloreado rojo\")\n",
    "        else:\n",
    "            print(\"aun no esta coloreado\")  "
   ]
  },
  {
   "cell_type": "code",
   "execution_count": 12,
   "metadata": {},
   "outputs": [
    {
     "name": "stdout",
     "output_type": "stream",
     "text": [
      "se creo un Autocon puertas 2 y color Rojo\n"
     ]
    }
   ],
   "source": [
    "a = Auto()#~ no devuelve elrror al enviar valores"
   ]
  },
  {
   "cell_type": "code",
   "execution_count": null,
   "metadata": {},
   "outputs": [],
   "source": []
  }
 ],
 "metadata": {
  "kernelspec": {
   "display_name": "Python 3",
   "language": "python",
   "name": "python3"
  },
  "language_info": {
   "codemirror_mode": {
    "name": "ipython",
    "version": 3
   },
   "file_extension": ".py",
   "mimetype": "text/x-python",
   "name": "python",
   "nbconvert_exporter": "python",
   "pygments_lexer": "ipython3",
   "version": "3.7.6"
  }
 },
 "nbformat": 4,
 "nbformat_minor": 4
}
