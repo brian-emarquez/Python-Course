{
 "cells": [
  {
   "cell_type": "code",
   "execution_count": null,
   "metadata": {},
   "outputs": [],
   "source": [
    "#Clases - Metodos Especiales\n",
    "#init : metodo contrucctor \"__init__\""
   ]
  },
  {
   "cell_type": "code",
   "execution_count": null,
   "metadata": {},
   "outputs": [],
   "source": [
    "#Ejemplo 1\n",
    "class fabrica:\n",
    "    def __init__(self, tiempo, nombre, ruedas): #contructor\n",
    "        self.tiempo = tiempo\n",
    "        self.nombre = nombre\n",
    "        self.ruedas = ruedas\n",
    "        print(\"se crear el auto\", tiempo, nombre, ruedas)\n",
    "        \n",
    "    def __del__(self):#destructor\n",
    "        print(\"se elimino el auto\", self.nombre, self.tiempo,self.ruedas)\n",
    "        \n",
    "#creamos el Objeto\n",
    "a = fabrica(50,\"yuli\",4)\n",
    "#Entra aun nombre y se elimina otro nombre           "
   ]
  },
  {
   "cell_type": "code",
   "execution_count": null,
   "metadata": {},
   "outputs": [],
   "source": [
    "#Ejemplo 2\n",
    "class fabrica:\n",
    "    def __init__(self, tiempo, nombre, ruedas): #contructor\n",
    "        self.tiempo = tiempo\n",
    "        self.nombre = nombre\n",
    "        self.ruedas = ruedas\n",
    "        print(\"se crear el auto\", nombre)\n",
    "        \n",
    "    def __del__(self):#destructor\n",
    "        print(\"se elimino el auto\", self.nombre)\n",
    "        \n",
    "    def __str__(self):\n",
    "        return(\"{} se fabrico con exito el el tiempo {} y tiene esta cantida dde rudas {}.\".format(self.nombre, self.tiempo, self.ruedas))\n",
    "    def __len__(self):\n",
    "        return self.tiempo\n",
    "        "
   ]
  },
  {
   "cell_type": "code",
   "execution_count": null,
   "metadata": {},
   "outputs": [],
   "source": [
    "a = fabrica(50,\"yuli\",4)"
   ]
  },
  {
   "cell_type": "code",
   "execution_count": null,
   "metadata": {},
   "outputs": [],
   "source": [
    " str(a)"
   ]
  },
  {
   "cell_type": "code",
   "execution_count": null,
   "metadata": {},
   "outputs": [],
   "source": [
    "len(a)"
   ]
  },
  {
   "cell_type": "code",
   "execution_count": null,
   "metadata": {},
   "outputs": [],
   "source": []
  }
 ],
 "metadata": {
  "kernelspec": {
   "display_name": "Python 3",
   "language": "python",
   "name": "python3"
  },
  "language_info": {
   "codemirror_mode": {
    "name": "ipython",
    "version": 3
   },
   "file_extension": ".py",
   "mimetype": "text/x-python",
   "name": "python",
   "nbconvert_exporter": "python",
   "pygments_lexer": "ipython3",
   "version": "3.7.6"
  }
 },
 "nbformat": 4,
 "nbformat_minor": 4
}
