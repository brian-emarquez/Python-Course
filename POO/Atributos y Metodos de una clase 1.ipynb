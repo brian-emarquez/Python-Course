{
 "cells": [
  {
   "cell_type": "code",
   "execution_count": null,
   "metadata": {},
   "outputs": [],
   "source": [
    "#Atributos y Metodos de un clases\n",
    "class auto:\n",
    "    pass"
   ]
  },
  {
   "cell_type": "code",
   "execution_count": null,
   "metadata": {},
   "outputs": [],
   "source": [
    "consecionaria = auto()"
   ]
  },
  {
   "cell_type": "code",
   "execution_count": null,
   "metadata": {},
   "outputs": [],
   "source": [
    "consecionaria.color = \"rojo\"\n",
    "consecionaria.puertas=\"4 puertas\"\n",
    "print(\"mi auto es de color: \",consecionaria.color )\n"
   ]
  },
  {
   "cell_type": "code",
   "execution_count": null,
   "metadata": {},
   "outputs": [],
   "source": [
    "class auto:\n",
    "    rojo = False    "
   ]
  },
  {
   "cell_type": "code",
   "execution_count": null,
   "metadata": {},
   "outputs": [],
   "source": [
    "C = auto()"
   ]
  },
  {
   "cell_type": "code",
   "execution_count": null,
   "metadata": {},
   "outputs": [],
   "source": [
    "C.rojo"
   ]
  },
  {
   "cell_type": "code",
   "execution_count": 42,
   "metadata": {},
   "outputs": [
    {
     "name": "stdout",
     "output_type": "stream",
     "text": [
      "Se creo un auto\n"
     ]
    }
   ],
   "source": [
    "#Metodos\n",
    "#Ejemplo\n",
    "\n",
    "#Self: sirve para hacer referencia a lo metodos y atributos\n",
    "class Auto():\n",
    "    Rojo = False\n",
    "    \n",
    "    def __init__(self): # se creo automaticament ele objeto automaticamente con el __Init__ es inplicito\n",
    "        print(\"Se creo un auto\")\n",
    "        \n",
    "    def fabricar(self):\n",
    "        self.Rojo =  True #con el srlf hacemos el cambio a true\n",
    "                  \n",
    "        \n",
    "a=Auto()"
   ]
  },
  {
   "cell_type": "code",
   "execution_count": null,
   "metadata": {},
   "outputs": [],
   "source": [
    "a.fabricar()"
   ]
  },
  {
   "cell_type": "code",
   "execution_count": null,
   "metadata": {},
   "outputs": [],
   "source": [
    "a.Rojo"
   ]
  },
  {
   "cell_type": "code",
   "execution_count": 50,
   "metadata": {},
   "outputs": [
    {
     "name": "stdout",
     "output_type": "stream",
     "text": [
      "Se creo un auto\n",
      "aun no esta coloreado\n",
      "el auto coloreado rojo\n"
     ]
    }
   ],
   "source": [
    "#Metodos\n",
    "#Self: sirve para hacer referencia a lo metodos y atributos\n",
    "class Auto:\n",
    "    Rojo = False\n",
    "    \n",
    "    def __init__(self): # se creo automaticament ele objeto automaticamente con el __Init__ es inplicito\n",
    "        print(\"Se creo un auto\")\n",
    "        \n",
    "    def fabricar(self):\n",
    "        self.Rojo =  True #con el self hacemos el cambio a true\n",
    "        \n",
    "    def confirmar_fab(self):\n",
    "        if(self.Rojo):\n",
    "            print(\"el auto coloreado rojo\")\n",
    "        else:\n",
    "            print(\"aun no esta coloreado\")\n",
    "            \n",
    "a = Auto()\n",
    "a.confirmar_fab()\n",
    "a.fabricar()\n",
    "a.confirmar_fab()"
   ]
  },
  {
   "cell_type": "code",
   "execution_count": null,
   "metadata": {},
   "outputs": [],
   "source": []
  },
  {
   "cell_type": "code",
   "execution_count": null,
   "metadata": {},
   "outputs": [],
   "source": []
  },
  {
   "cell_type": "code",
   "execution_count": null,
   "metadata": {},
   "outputs": [],
   "source": []
  }
 ],
 "metadata": {
  "kernelspec": {
   "display_name": "Python 3",
   "language": "python",
   "name": "python3"
  },
  "language_info": {
   "codemirror_mode": {
    "name": "ipython",
    "version": 3
   },
   "file_extension": ".py",
   "mimetype": "text/x-python",
   "name": "python",
   "nbconvert_exporter": "python",
   "pygments_lexer": "ipython3",
   "version": "3.7.6"
  }
 },
 "nbformat": 4,
 "nbformat_minor": 4
}
