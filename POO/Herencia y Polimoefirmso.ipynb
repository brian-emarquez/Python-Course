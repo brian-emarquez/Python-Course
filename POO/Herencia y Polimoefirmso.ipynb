{
 "cells": [
  {
   "cell_type": "code",
   "execution_count": null,
   "metadata": {},
   "outputs": [],
   "source": [
    "#con Herencia 2\n",
    "\n",
    "### SUPERCLASE\n",
    "class Fabrica:\n",
    "    \n",
    "    def __init__(self,marca,nombre,precio,descripcion):\n",
    "        self.marca = marca\n",
    "        self.nombre = nombre\n",
    "        self.precio = precio\n",
    "        self.descripcion = descripcion\n",
    "        \n",
    "    def __str__(self):#string debolvemos los valores \n",
    "        return \"\"\"\n",
    "            MARCA\\t\\t{}\n",
    "            NOMBRE\\t\\t{}\n",
    "            PRECIO\\t\\t{}\n",
    "            DESCRIPCION\\t\\t{}\"\"\".format(self.marca,self.nombre,self.precio,self.descripcion)   "
   ]
  },
  {
   "cell_type": "code",
   "execution_count": null,
   "metadata": {},
   "outputs": [],
   "source": [
    "### SUBCLASE\n",
    "class Auto(Fabrica): #EN EL PARENCTESIS HEREDA LA USPER CLASES (fabrica)\n",
    "    pass\n",
    "\n",
    "z = Auto('ford','ranger',100.000,\"camioneta\")\n",
    "print(z)\n"
   ]
  },
  {
   "cell_type": "code",
   "execution_count": null,
   "metadata": {},
   "outputs": [],
   "source": [
    "class Deportivo(Fabrica):\n",
    "    ruedas =\"\"\n",
    "    distribuidor = \"\"\n",
    "    \n",
    "    def __str__(self):\n",
    "        return \"\"\"\n",
    "            MARCA\\t\\t{}\n",
    "            NOMBRE\\t\\t{}\n",
    "            PRECIO\\t\\t{}\n",
    "            DESCRIPCION\\t\\t{}\n",
    "            RUEDAS\\t\\t{}\n",
    "            DISTRIBUIDOR\\t{}\"\"\".format(self.marca,self.nombre,self.precio,self.descripcion,self.ruedas,self.distribuidor)  \n",
    "    "
   ]
  },
  {
   "cell_type": "code",
   "execution_count": null,
   "metadata": {},
   "outputs": [],
   "source": [
    "class Accesorios(Fabrica):\n",
    "    auto = \"\"\n",
    "    fabricante = \"\"\n",
    "    \n",
    "    def __str__(self):\n",
    "        return \"\"\"\n",
    "            MARCA\\t\\t{}\n",
    "            NOMBRE\\t\\t{}\n",
    "            PRECIO\\t\\t{}\n",
    "            DESCRIPCION\\t\\t{}\n",
    "            AUTOR\\t\\t{}\n",
    "            FABRICANTE\\t{}\"\"\".format(self.marca,self.nombre,self.precio,self.descripcion,self.autor,self.fabricante)  \n",
    "    "
   ]
  },
  {
   "cell_type": "code",
   "execution_count": null,
   "metadata": {},
   "outputs": [],
   "source": [
    "a =Deportivo (\"Ford\",\"ranger\",10000,\"Camioneta\")\n",
    "\n",
    "deportivo = Deportivo (\"volkwagen\",\"vento\",40000,\"rapido\")\n",
    "deportivo.ruedas = 3\n",
    "deportivo.distribuidor = \"tu autito\"\n",
    "\n",
    "accesorios = Accesorios(\"Fiat\",\"Luces de neon\",10000,\"Ilumina mejor\")\n",
    "accesorios.autor = \"tu\"\n",
    "accesorios.fabricante = \"Yo\"\n",
    "\n"
   ]
  },
  {
   "cell_type": "code",
   "execution_count": null,
   "metadata": {},
   "outputs": [],
   "source": [
    "Fabrica = [accesorios, deportivo]"
   ]
  },
  {
   "cell_type": "code",
   "execution_count": null,
   "metadata": {},
   "outputs": [],
   "source": [
    "Fabrica.append(a)\n",
    "Fabrica"
   ]
  },
  {
   "cell_type": "code",
   "execution_count": null,
   "metadata": {},
   "outputs": [],
   "source": [
    "for x in Fabrica:\n",
    "    print(x,\"\\n\")\n",
    "    "
   ]
  },
  {
   "cell_type": "code",
   "execution_count": null,
   "metadata": {},
   "outputs": [],
   "source": [
    "for x in Fabrica:\n",
    "    print(x.marca,x.precio)"
   ]
  },
  {
   "cell_type": "code",
   "execution_count": null,
   "metadata": {},
   "outputs": [],
   "source": [
    "#----------------\n",
    "##POLIFORMISMO\n",
    "#------------------"
   ]
  },
  {
   "cell_type": "code",
   "execution_count": 43,
   "metadata": {},
   "outputs": [
    {
     "name": "stdout",
     "output_type": "stream",
     "text": [
      "Fiat Luces de neon Yo\n",
      "volkwagen vento 3\n",
      "Ford ranger \n"
     ]
    }
   ],
   "source": [
    "for x in Fabrica:\n",
    "    if(isinstance(x,Auto)):\n",
    "        print(x.marca,x.nombre)\n",
    "    elif(isinstance(x,Deportivo)):\n",
    "        print(x.marca,x.nombre,x.ruedas)\n",
    "    elif(isinstance(x,Accesorios)):\n",
    "        print(x.marca,x.nombre,x.fabricante)\n"
   ]
  },
  {
   "cell_type": "code",
   "execution_count": 44,
   "metadata": {},
   "outputs": [],
   "source": [
    "#======================================================================#\n",
    "#aplicamos un descuento a acessorios (1000) \n",
    "# menejando polimorfirmo\n"
   ]
  },
  {
   "cell_type": "code",
   "execution_count": 48,
   "metadata": {},
   "outputs": [],
   "source": [
    "def Desc_acces(t, descuento):\n",
    "    t.precio = t.precio -(t.precio/100 * descuento)"
   ]
  },
  {
   "cell_type": "code",
   "execution_count": 49,
   "metadata": {},
   "outputs": [],
   "source": [
    "Desc_acces(accesorios, 10)"
   ]
  },
  {
   "cell_type": "code",
   "execution_count": 50,
   "metadata": {},
   "outputs": [
    {
     "data": {
      "text/plain": [
       "9000.0"
      ]
     },
     "execution_count": 50,
     "metadata": {},
     "output_type": "execute_result"
    }
   ],
   "source": [
    "accesorios.precio\n"
   ]
  },
  {
   "cell_type": "code",
   "execution_count": 51,
   "metadata": {},
   "outputs": [],
   "source": [
    "#copia d eun objeto"
   ]
  },
  {
   "cell_type": "code",
   "execution_count": 54,
   "metadata": {},
   "outputs": [
    {
     "name": "stdout",
     "output_type": "stream",
     "text": [
      "\n",
      "            MARCA\t\tFiat\n",
      "            NOMBRE\t\tLuces de neon\n",
      "            PRECIO\t\t9000.0\n",
      "            DESCRIPCION\t\tIlumina mejor\n",
      "            AUTOR\t\ttu\n",
      "            FABRICANTE\tYo\n"
     ]
    }
   ],
   "source": [
    "import copy\n",
    "copia_deport = copy.copy(accesorios)\n",
    "print(copia_deport)"
   ]
  },
  {
   "cell_type": "code",
   "execution_count": null,
   "metadata": {},
   "outputs": [],
   "source": []
  }
 ],
 "metadata": {
  "kernelspec": {
   "display_name": "Python 3",
   "language": "python",
   "name": "python3"
  },
  "language_info": {
   "codemirror_mode": {
    "name": "ipython",
    "version": 3
   },
   "file_extension": ".py",
   "mimetype": "text/x-python",
   "name": "python",
   "nbconvert_exporter": "python",
   "pygments_lexer": "ipython3",
   "version": "3.7.6"
  }
 },
 "nbformat": 4,
 "nbformat_minor": 4
}
