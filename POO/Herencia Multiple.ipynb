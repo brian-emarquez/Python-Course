{
 "cells": [
  {
   "cell_type": "code",
   "execution_count": 6,
   "metadata": {},
   "outputs": [
    {
     "name": "stdout",
     "output_type": "stream",
     "text": [
      "Yo voy a la primera clase\n"
     ]
    }
   ],
   "source": [
    "#Herencia Multiple (problema que elime al primera parametro declarado)\n",
    "\n",
    "class primera:\n",
    "    def __init__(self):\n",
    "        print(\"Yo voy a la primera clase\")\n",
    "    \n",
    "class segunda:\n",
    "    def __init__(self):\n",
    "        print(\"Yo voy a la segunda clase\")\n",
    "    \n",
    "class tercera(primera, segunda):\n",
    "    pass\n",
    "     \n",
    "\n",
    "herencia_multiple = tercera()\n"
   ]
  },
  {
   "cell_type": "code",
   "execution_count": null,
   "metadata": {},
   "outputs": [],
   "source": [
    "#aplicamos herencia multiple"
   ]
  },
  {
   "cell_type": "code",
   "execution_count": 8,
   "metadata": {},
   "outputs": [],
   "source": [
    "class primera:\n",
    "    def __init__(self):\n",
    "        print(\"Yo voy a la primera clase\")\n",
    "        \n",
    "    def primera(self):\n",
    "         print(\"Es es el metodo heredado de primera\")\n",
    "    \n",
    "class segunda:\n",
    "    def __init__(self):\n",
    "        print(\"Yo voy a la segunda clase\")\n",
    "    def segunda(self):\n",
    "        print(\"Es es el metodo heredado de segunda\")\n",
    "    \n",
    "class tercera(primera, segunda):\n",
    "    def tercera(self):\n",
    "        print(\"Es es el metodo heredado de tercera\")\n",
    "     \n",
    "\n"
   ]
  },
  {
   "cell_type": "code",
   "execution_count": 15,
   "metadata": {},
   "outputs": [
    {
     "name": "stdout",
     "output_type": "stream",
     "text": [
      "Es es el metodo heredado de primera\n",
      "Es es el metodo heredado de segunda\n",
      "Es es el metodo heredado de tercera\n"
     ]
    }
   ],
   "source": [
    "herencia_multiple.primera()\n",
    "herencia_multiple.segunda()\n",
    "herencia_multiple.tercera()"
   ]
  },
  {
   "cell_type": "code",
   "execution_count": null,
   "metadata": {},
   "outputs": [],
   "source": []
  }
 ],
 "metadata": {
  "kernelspec": {
   "display_name": "Python 3",
   "language": "python",
   "name": "python3"
  },
  "language_info": {
   "codemirror_mode": {
    "name": "ipython",
    "version": 3
   },
   "file_extension": ".py",
   "mimetype": "text/x-python",
   "name": "python",
   "nbconvert_exporter": "python",
   "pygments_lexer": "ipython3",
   "version": "3.7.6"
  }
 },
 "nbformat": 4,
 "nbformat_minor": 4
}
