{
 "cells": [
  {
   "cell_type": "code",
   "execution_count": null,
   "metadata": {},
   "outputs": [],
   "source": [
    "#Funciones argumentos 3\n",
    "\n",
    "def argu(*tu):#no se sabe el numero de valores a enviar\n",
    "    for tus in tu:\n",
    "        print(tus)\n",
    "\n",
    "argu(\"brian\",\"marquez\",\"estudiantes\",10, [1,2,3])\n"
   ]
  },
  {
   "cell_type": "code",
   "execution_count": null,
   "metadata": {},
   "outputs": [],
   "source": [
    "#mostar el diccionario de datos\n",
    "def nombre_diccionario(**lo):\n",
    "    for x in lo:\n",
    "        print(x,\"\",lo[x])\n",
    "nombre_diccionario(brian='marquez',yuliza='vilca',calificaciones=[10,20,30])"
   ]
  },
  {
   "cell_type": "code",
   "execution_count": null,
   "metadata": {},
   "outputs": [],
   "source": [
    "#Mostar solo nombres en el diccionario\n",
    "def nombre_diccionario(**lo):\n",
    "    for x in lo:\n",
    "        print(x)\n",
    "nombre_diccionario(1,2,3,4,brian='marquez',yuliza='vilca',calificaciones=[10,20,30])"
   ]
  },
  {
   "cell_type": "code",
   "execution_count": null,
   "metadata": {},
   "outputs": [],
   "source": [
    "def nombre_diccionario(*tu, **lo):\n",
    "    b=0\n",
    "    for tus in tu:\n",
    "        b+=tus\n",
    "    print(b)\n",
    "    for x in lo:\n",
    "        print(x,\"\",lo[x])\n",
    "        \n",
    "nombre_diccionario(1,2,3,4,brian='marquez',yuliza='vilca',calificaciones=[10,20,30])"
   ]
  },
  {
   "cell_type": "code",
   "execution_count": null,
   "metadata": {},
   "outputs": [],
   "source": []
  }
 ],
 "metadata": {
  "kernelspec": {
   "display_name": "Python 3",
   "language": "python",
   "name": "python3"
  },
  "language_info": {
   "codemirror_mode": {
    "name": "ipython",
    "version": 3
   },
   "file_extension": ".py",
   "mimetype": "text/x-python",
   "name": "python",
   "nbconvert_exporter": "python",
   "pygments_lexer": "ipython3",
   "version": "3.7.6"
  }
 },
 "nbformat": 4,
 "nbformat_minor": 4
}
