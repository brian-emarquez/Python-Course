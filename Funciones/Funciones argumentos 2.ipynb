{
 "cells": [
  {
   "cell_type": "code",
   "execution_count": null,
   "metadata": {},
   "outputs": [],
   "source": [
    "#Funciones y Argumentos 2\n",
    "def estudiantes (valor):\n",
    "    valor*=3\n",
    "variable = 15\n",
    "estudiantes(variable)\n",
    "variable\n",
    "#la variable no peude ser modificada por la potenciae"
   ]
  },
  {
   "cell_type": "code",
   "execution_count": 11,
   "metadata": {},
   "outputs": [
    {
     "data": {
      "text/plain": [
       "[150, 300, 450]"
      ]
     },
     "execution_count": 11,
     "metadata": {},
     "output_type": "execute_result"
    }
   ],
   "source": [
    "def listas(numero):\n",
    "    for x,i in enumerate(numero):\n",
    "        numero[x] *=3\n",
    "        \n",
    "lista = [50,100,150]\n",
    "#listas(lista[:])inpide que se modifique la lista\n",
    "listas(lista)\n",
    "lista\n",
    "# se multiplican por 3 los elementos de la lista"
   ]
  },
  {
   "cell_type": "code",
   "execution_count": 14,
   "metadata": {},
   "outputs": [
    {
     "data": {
      "text/plain": [
       "45"
      ]
     },
     "execution_count": 14,
     "metadata": {},
     "output_type": "execute_result"
    }
   ],
   "source": [
    "def estudiantes (valor):\n",
    "    return valor*3\n",
    "   \n",
    "variable = 15\n",
    "variable = estudiantes(variable)\n",
    "variable"
   ]
  },
  {
   "cell_type": "code",
   "execution_count": null,
   "metadata": {},
   "outputs": [],
   "source": []
  }
 ],
 "metadata": {
  "kernelspec": {
   "display_name": "Python 3",
   "language": "python",
   "name": "python3"
  },
  "language_info": {
   "codemirror_mode": {
    "name": "ipython",
    "version": 3
   },
   "file_extension": ".py",
   "mimetype": "text/x-python",
   "name": "python",
   "nbconvert_exporter": "python",
   "pygments_lexer": "ipython3",
   "version": "3.7.6"
  }
 },
 "nbformat": 4,
 "nbformat_minor": 4
}
