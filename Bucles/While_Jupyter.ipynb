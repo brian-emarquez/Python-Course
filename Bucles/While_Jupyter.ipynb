{
 "cells": [
  {
   "cell_type": "code",
   "execution_count": null,
   "metadata": {},
   "outputs": [],
   "source": [
    "#Ejemplo de While\n",
    "\n",
    "iteracion = 1\n",
    "while iteracion <=5:\n",
    "    iteracion =iteracion+1 #iteracion +=1\n",
    "    print(f\"Estamos Iterando {iteracion}\")\n",
    "    #break # para que entre al buble solo una ves\n",
    "else:\n",
    "    print(\"Termino la Iteracion\")\n"
   ]
  },
  {
   "cell_type": "code",
   "execution_count": null,
   "metadata": {},
   "outputs": [],
   "source": [
    "#Aplicamos El If dentro de While\n",
    "iteracion = 0\n",
    "while iteracion <=5:\n",
    "    iteracion =iteracion+1 #iteracion +=1\n",
    "    print(f\"Estamos Iterando {iteracion}\")\n",
    "    if iteracion == 4:\n",
    "        break # para que entre al buble solo una ves\n",
    "else:\n",
    "    print(\"Termino la Iteracion\")\n"
   ]
  },
  {
   "cell_type": "code",
   "execution_count": null,
   "metadata": {},
   "outputs": [],
   "source": [
    "#Fin"
   ]
  }
 ],
 "metadata": {
  "kernelspec": {
   "display_name": "Python 3",
   "language": "python",
   "name": "python3"
  },
  "language_info": {
   "codemirror_mode": {
    "name": "ipython",
    "version": 3
   },
   "file_extension": ".py",
   "mimetype": "text/x-python",
   "name": "python",
   "nbconvert_exporter": "python",
   "pygments_lexer": "ipython3",
   "version": "3.7.6"
  }
 },
 "nbformat": 4,
 "nbformat_minor": 4
}
