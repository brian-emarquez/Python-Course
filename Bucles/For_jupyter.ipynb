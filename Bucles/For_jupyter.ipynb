{
 "cells": [
  {
   "cell_type": "code",
   "execution_count": null,
   "metadata": {},
   "outputs": [],
   "source": [
    "\n",
    "#================================================================================================\n",
    "#While\n",
    "lista = [1,2,3,4,5,6,]\n",
    "indice = 0\n",
    "while indice < len(lista):\n",
    "    print(lista[indice])\n",
    "    indice = indice+1\n",
    "\n",
    "print(\"=============================================================================\")\n",
    "#================================================================================================\n",
    "#For\n",
    "for recorrer in lista:\n",
    "    print(recorrer)\n",
    "\n"
   ]
  },
  {
   "cell_type": "code",
   "execution_count": null,
   "metadata": {},
   "outputs": [],
   "source": [
    "lista = [1,2,3,4,5,6,]\n",
    "indice = 0\n",
    "for recorrer in lista:\n",
    "    lista[indice] *= 10\n",
    "    indice+=1\n",
    "lista"
   ]
  },
  {
   "cell_type": "code",
   "execution_count": null,
   "metadata": {},
   "outputs": [],
   "source": [
    "lista = [1,2,3,4,5,6,]\n",
    "indice = 0\n",
    "for indice, recorrer in enumerate (lista):\n",
    "    lista[indice]*=10\n",
    "lista"
   ]
  },
  {
   "cell_type": "code",
   "execution_count": null,
   "metadata": {},
   "outputs": [],
   "source": [
    "string = \"brian\"\n",
    "for palabra in string:\n",
    "    print(palabra)"
   ]
  },
  {
   "cell_type": "code",
   "execution_count": null,
   "metadata": {},
   "outputs": [],
   "source": []
  }
 ],
 "metadata": {
  "kernelspec": {
   "display_name": "Python 3",
   "language": "python",
   "name": "python3"
  },
  "language_info": {
   "codemirror_mode": {
    "name": "ipython",
    "version": 3
   },
   "file_extension": ".py",
   "mimetype": "text/x-python",
   "name": "python",
   "nbconvert_exporter": "python",
   "pygments_lexer": "ipython3",
   "version": "3.7.6"
  }
 },
 "nbformat": 4,
 "nbformat_minor": 4
}
